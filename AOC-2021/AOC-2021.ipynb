{
 "cells": [
  {
   "cell_type": "markdown",
   "metadata": {},
   "source": [
    "### Day 1"
   ]
  },
  {
   "cell_type": "code",
   "execution_count": 21,
   "metadata": {},
   "outputs": [],
   "source": [
    "data = [*map(int, open('data/day1.txt').readlines())]\n",
    "r = [x + y + z for x, y, z in zip(data, data[1:], data[2:])]\n",
    "print('Part 1:', sum(y > x for x, y in zip(data, data[1:])))\n",
    "print('Part 2:', sum(y > x for x, y in zip(r, r[1:])))"
   ]
  },
  {
   "cell_type": "markdown",
   "metadata": {},
   "source": [
    "### Day 2"
   ]
  },
  {
   "cell_type": "code",
   "execution_count": 22,
   "metadata": {},
   "outputs": [],
   "source": [
    "h = v = 0\n",
    "for k in open('data/day2.txt').read().splitlines():\n",
    "    a, b = k.split()\n",
    "    b = int(b)\n",
    "    if a == \"forward\":\n",
    "        h += b\n",
    "    elif a == \"down\":\n",
    "        v -= b\n",
    "    else:\n",
    "        v += b\n",
    "\n",
    "print('Part 1:', abs(h) * abs(v))\n",
    "\n",
    "h = v = a = 0\n",
    "for k in open('data/day2.txt').read().splitlines():\n",
    "    x, b = k.split()\n",
    "    b = int(b)\n",
    "    if x == \"forward\":\n",
    "        h += b\n",
    "        v += a * b\n",
    "    elif x == \"down\":\n",
    "        a -= b\n",
    "    else:\n",
    "        a += b\n",
    "\n",
    "print('Part 2:', abs(h) * abs(v))"
   ]
  },
  {
   "cell_type": "markdown",
   "metadata": {},
   "source": [
    "### Day 3"
   ]
  },
  {
   "cell_type": "code",
   "execution_count": 23,
   "metadata": {},
   "outputs": [],
   "source": [
    "b = list(map(list, open('data/day3.txt').readlines()))\n",
    "z = list(map(list, zip(*b)))\n",
    "i = (\"\".join(max(k, key = k.count) for k in z))\n",
    "j = (\"\".join(min(k, key = k.count) for k in z))\n",
    "\n",
    "print('Part 1:', int(i, 2) * int(j, 2))\n",
    "\n",
    "def cut(items, criteria, index = 0):\n",
    "    v = [item[index] for item in items]\n",
    "    q = criteria(v, key = lambda x: (v.count(x), x))\n",
    "    items = [item for item in items if item[index] == q]\n",
    "    if len(items) == 1:\n",
    "        return items[0]\n",
    "    else:\n",
    "        return cut(items, criteria, index + 1)\n",
    "\n",
    "ox = int(\"\".join(cut(b, max)), 2)\n",
    "co = int(\"\".join(cut(b, min)), 2)\n",
    "print('Part 2:',ox * co)"
   ]
  },
  {
   "cell_type": "markdown",
   "metadata": {},
   "source": [
    "### Day 4"
   ]
  },
  {
   "cell_type": "code",
   "execution_count": 1,
   "metadata": {},
   "outputs": [],
   "source": [
    "import pandas as pd\n",
    "import numpy as np\n",
    "\n",
    "with open('data/day4.txt') as data:\n",
    "    input_data = [line.strip() for line in data]\n",
    "\n",
    "nums = input_data[0]\n",
    "nums = list(map(int, nums.split(',')))\n",
    "\n",
    "boards = np.array_split(input_data[1:],(len(input_data)-1)/6)\n",
    "boards = [np.array(i[1:]) for i in boards]\n",
    "boards_dict = {}\n",
    "for i, j in enumerate(boards):\n",
    "    boards_dict[\"boards_\"+str(i+1)] = [np.array(list(map(int,k.split()))+[0]) for k in j]\n",
    "    boards_dict[\"boards_\"+str(i+1)] = np.vstack((boards_dict[\"boards_\"+str(i+1)], np.array([[0,0,0,0,0,0]])))\n",
    "boards_dict_copy = boards_dict.copy()"
   ]
  },
  {
   "cell_type": "code",
   "execution_count": 2,
   "metadata": {},
   "outputs": [],
   "source": [
    "def get_index(mat, num):\n",
    "    return np.where(mat[:5,:5] == num)\n",
    "# res = get_index(np.array(boards_dict_copy['boards_1']), nums[0])\n",
    "\n",
    "def update_mat(mat,result):\n",
    "    if result[0].size != 0:\n",
    "        mat[result[0][0],5] += 1\n",
    "        mat[5,result[1][0]] += 1\n",
    "    return mat\n",
    "# update_mat(boards_dict_copy['boards_1'],res)\n",
    "\n",
    "def check_bingo(mat):\n",
    "    if mat[:,5].max() == 5:\n",
    "        return True\n",
    "    elif mat[5,:].max() == 5:\n",
    "        return True\n",
    "    else:\n",
    "        return False\n",
    "# check_bingo(boards_dict_copy['boards_1'])\n"
   ]
  },
  {
   "cell_type": "code",
   "execution_count": 5,
   "metadata": {},
   "outputs": [],
   "source": [
    "def compute_winner(boards_dict, nums):\n",
    "    slice_num_list = []\n",
    "    for i in nums:\n",
    "        slice_num_list.append(i)\n",
    "        for key, value in boards_dict.items():\n",
    "            idx = get_index(value,i)\n",
    "            temp = update_mat(value, idx)\n",
    "            boards_dict[key] = temp\n",
    "            if check_bingo(temp):\n",
    "                return i, temp, key, idx, slice_num_list\n",
    "    return None\n",
    "# res = compute_winner(boards_dict_copy, nums)\n",
    "\n",
    "def cal_score(res):\n",
    "    return res[0] * (res[1][:5,:5].sum() - sum(list(set(res[1][:5,:5].flatten()).intersection(set(res[4])))))\n",
    "# cal_score(res)"
   ]
  },
  {
   "cell_type": "markdown",
   "metadata": {},
   "source": [
    "--------------------------------------"
   ]
  },
  {
   "cell_type": "code",
   "execution_count": 5,
   "metadata": {},
   "outputs": [],
   "source": [
    "def compute_last(boards_dict, nums):\n",
    "    key_copy = tuple(boards_dict.keys())\n",
    "    slice_num_list = []\n",
    "    key_list = []\n",
    "    for i in nums:\n",
    "        slice_num_list.append(i)\n",
    "        for key in key_copy:\n",
    "            idx = get_index(boards_dict[key],i)\n",
    "            temp = update_mat(boards_dict[key], idx)\n",
    "            boards_dict[key] = temp\n",
    "            if check_bingo(temp):\n",
    "                key_list.append(key) if key not in key_list else key_list\n",
    "                if len(key_list) == 100:\n",
    "                    return i, boards_dict, slice_num_list, key_list\n",
    "# res = compute_last(boards_dict_copy, nums)\n",
    "\n",
    "def cal_score(res, boards_dict):\n",
    "    return res[0] * (boards_dict[res[3][-1]][:5,:5].sum() - \\\n",
    "          sum(list(set(res[1][res[3][-1]][:5,:5].flatten()).intersection(set(res[2])))))\n",
    "# cal_score(res, boards_dict)"
   ]
  },
  {
   "cell_type": "markdown",
   "metadata": {},
   "source": [
    "### Day 5"
   ]
  },
  {
   "cell_type": "code",
   "execution_count": 24,
   "metadata": {},
   "outputs": [],
   "source": [
    "def cal_points(p2):\n",
    "    with open('data/day5.txt') as f: \n",
    "        data = [list(map(int, line.strip().replace('->', ',').split(',')))\n",
    "                for line in f]\n",
    "\n",
    "    nx = max(max([(c[0], c[2]) for c in data])) + 1\n",
    "    ny = max(max([(c[1], c[3]) for c in data])) + 1\n",
    "\n",
    "    danger_zone = [[0 for i in range(nx)] for j in range(ny)]\n",
    "\n",
    "    for x1, y1, x2, y2 in data:\n",
    "        xmin, dx = min(x1, x2), abs(x2 - x1)\n",
    "        ymin, dy = min(y1, y2), abs(y2 - y1)\n",
    "        \n",
    "        if x1 == x2:\n",
    "            for i in range(dy + 1):\n",
    "                danger_zone[i + ymin][x1] += 1\n",
    "        elif y1 == y2:\n",
    "            for i in range(dx + 1):\n",
    "                danger_zone[y1][i + xmin] += 1\n",
    "        elif p2:\n",
    "            cx = 1 if x2 > x1 else -1\n",
    "            cy = 1 if y2 > y1 else -1\n",
    "            for i in range(dx + 1):\n",
    "                danger_zone[cy*i + y1][cx*i + x1] += 1\n",
    "\n",
    "    return sum([1 for line in danger_zone for num in line if num > 1])\n",
    "\n",
    "print('Part 1:', cal_points(0))\n",
    "print('Part 2:', cal_points(1))"
   ]
  },
  {
   "cell_type": "markdown",
   "metadata": {},
   "source": [
    "### Day 6"
   ]
  },
  {
   "cell_type": "code",
   "execution_count": 18,
   "metadata": {},
   "outputs": [],
   "source": [
    "%%time\n",
    "from collections import defaultdict\n",
    "with open('data/day6.txt') as f: \n",
    "    data = [list(map(int, line.strip().split(','))) for line in f][0]\n",
    "\n",
    "def count_of_fish(data, days): \n",
    "    data_dict = defaultdict(int)\n",
    "    for i in data:\n",
    "        data_dict[i] += 1\n",
    "    \n",
    "    for i in range(days):\n",
    "        zeros = data_dict[0]\n",
    "        data_dict[0] = 0\n",
    "        for idx in range(1,len(data_dict)):\n",
    "            data_dict[idx-1] += data_dict[idx]\n",
    "            data_dict[idx] = 0\n",
    "        data_dict[6] += zeros\n",
    "        data_dict[8] += zeros\n",
    "    return sum(data_dict.values())\n",
    "\n",
    "print('Part 1:', count_of_fish(data,80))\n",
    "print('Part 2:', count_of_fish(data,256))"
   ]
  },
  {
   "cell_type": "markdown",
   "metadata": {},
   "source": [
    "### Day 7"
   ]
  },
  {
   "cell_type": "code",
   "execution_count": 25,
   "metadata": {},
   "outputs": [],
   "source": [
    "k = [list(map(int, i.split(\",\"))) for i in open('data/day7.txt').readlines()]\n",
    "p1, p2 = float(\"inf\"), float(\"inf\")\n",
    "g = lambda x: x * (x + 1) // 2\n",
    "\n",
    "for i in range(min(k[0]), max(k[0]) + 1):\n",
    "    t = sum(abs(x - i) for x in k[0])\n",
    "    p1 = min(p1, t)\n",
    "\n",
    "for i in range(min(k[0]), max(k[0]) + 1):\n",
    "    t = sum(g(abs(x - i)) for x in k[0])\n",
    "    p2 = min(p2, t)\n",
    "    \n",
    "print('Part 1:', p1)\n",
    "print('Part 2:', p2)"
   ]
  },
  {
   "cell_type": "markdown",
   "metadata": {},
   "source": [
    "### Day 8"
   ]
  },
  {
   "cell_type": "markdown",
   "metadata": {},
   "source": [
    "Rules to identify numbers:\n",
    "- 1,4,7,8 can be identified easily based on **length** of characters.\n",
    "- 2,3,5 each have **five** characters each and they can be identified as follows:\n",
    "    - All the characters 1 has will be present in 3 and not in 2 or 5. \n",
    "    - 5 has 3 overlapping characters with 4\n",
    "    - 2 is the last one in the set\n",
    "- 0,6,9 each have **six** characters each and they can be identified as follows:\n",
    "    - All the characters 4 has will be present in 9\n",
    "    - Out of the remaining 0,6 if all the characters of 1 are present then it is 0 or else 6\n",
    "    \n"
   ]
  },
  {
   "cell_type": "code",
   "execution_count": 36,
   "metadata": {
    "collapsed": true
   },
   "outputs": [
    {
     "name": "stdout",
     "output_type": "stream",
     "text": [
      "Part 1: 310\n",
      "Part 2: 915941\n",
      "CPU times: user 5.09 ms, sys: 1.73 ms, total: 6.82 ms\n",
      "Wall time: 5.47 ms\n"
     ]
    }
   ],
   "source": [
    "%%time\n",
    "with open('data/day8.txt') as f: \n",
    "    data = [line.strip().split(' | ') for line in f]\n",
    "    \n",
    "def part_1(data):\n",
    "    len_list = [[len(j) for j in i.split(' ')] for i in [j[1] for j in data]]\n",
    "    count = 0\n",
    "    for i in len_list:\n",
    "        for j in i:\n",
    "            if j in [2,3,4,7]:\n",
    "                count += 1\n",
    "                \n",
    "    return count\n",
    "\n",
    "def part_2(data):\n",
    "    count = 0\n",
    "    for i in data:\n",
    "        inp, out = sorted(i[0].split(' '), key=len), i[1].split(' ')\n",
    "        inp = [''.join(sorted(char)) for char in inp]\n",
    "        out = [''.join(sorted(char)) for char in out]\n",
    "\n",
    "        map_dict = {}\n",
    "        for j in inp:\n",
    "            if len(j) == 2:\n",
    "                map_dict[j] = 1\n",
    "                temp_1 = j\n",
    "            elif len(j) == 3:\n",
    "                map_dict[j] = 7\n",
    "            elif len(j) == 4:\n",
    "                map_dict[j] = 4\n",
    "                temp_2 = j\n",
    "            elif len(j) == 7:\n",
    "                map_dict[j] = 8\n",
    "            elif len(j) == 5 and set(temp_1).issubset(set(j)):\n",
    "                map_dict[j] = 3\n",
    "            elif len(j) ==5 and len(set(temp_2) & set(j)) == 3:\n",
    "                map_dict[j] = 5\n",
    "            elif len(j) == 5:\n",
    "                map_dict[j] = 2\n",
    "            elif len(j) == 6 and set(temp_2).issubset(set(j)):\n",
    "                map_dict[j] = 9\n",
    "            elif len(j) == 6 and set(temp_1).issubset(set(j)):\n",
    "                map_dict[j] = 0\n",
    "            else:\n",
    "                map_dict[j] = 6\n",
    "\n",
    "        count += int(\"\".join(map(str, [map_dict[x] for x in out])))\n",
    "        \n",
    "    return count\n",
    "\n",
    "print('Part 1:', part_1(data))\n",
    "print('Part 2:', part_2(data))"
   ]
  },
  {
   "cell_type": "markdown",
   "metadata": {},
   "source": [
    "### Day 9"
   ]
  },
  {
   "cell_type": "code",
   "execution_count": 40,
   "metadata": {},
   "outputs": [],
   "source": [
    "%%time\n",
    "import heapq\n",
    "import math\n",
    "\n",
    "data = [[int(item) for item in line.strip()] for line in open('data/day9.txt').readlines()]\n",
    "rows, cols = len(data), len(data[0])\n",
    "\n",
    "def get_neighbors(i, j):\n",
    "    neighbors = []\n",
    "    if (i > 0):\n",
    "        neighbors.append((i - 1, j))\n",
    "    if (j > 0):\n",
    "        neighbors.append((i, j - 1))\n",
    "    if (i + 1 < rows):\n",
    "        neighbors.append((i + 1, j))\n",
    "    if (j + 1 < cols):\n",
    "        neighbors.append((i, j + 1))\n",
    "\n",
    "    return neighbors\n",
    "\n",
    "low_points = [(i, j) for i, row in enumerate(data) for j, height in enumerate(row) \n",
    "              if all(height < data[di][dj] for di, dj in get_neighbors(i, j))]\n",
    "\n",
    "print('Part 1:', sum([data[i][j] for i,j in low_points]) + len(low_points))\n",
    "\n",
    "def get_area(i, j):\n",
    "    if (data[i][j] == 9 or data[i][j] == -1):\n",
    "        return 0\n",
    "    data[i][j] = -1\n",
    "    return 1 + sum(get_area(di, dj) for di, dj in get_neighbors(i, j))\n",
    "\n",
    "highest_areas = []\n",
    "for i, j in low_points:\n",
    "    area = get_area(i, j)\n",
    "    heapq.heappush(highest_areas, area)\n",
    "    if (len(highest_areas) > 3):\n",
    "        heapq.heappop(highest_areas)\n",
    "        \n",
    "print('Part 2:', math.prod(highest_areas))"
   ]
  },
  {
   "cell_type": "code",
   "execution_count": 28,
   "metadata": {},
   "outputs": [],
   "source": [
    "###Awesome solution by a top coder friend.\n",
    "import sys\n",
    "import math\n",
    "import networkx\n",
    "\n",
    "depths = {(x, y): int(depth) for y, ln in enumerate(open('data/day9.txt').readlines()) if ln.strip()\n",
    "        for x, depth in enumerate(ln.strip())}\n",
    "\n",
    "def neighbours(x, y):\n",
    "    yield (x - 1, y)\n",
    "    yield (x + 1, y)\n",
    "    yield (x, y - 1)\n",
    "    yield (x, y + 1)\n",
    "\n",
    "print(\"Part 1:\", sum(depth + 1 for (x, y), depth in depths.items() \n",
    "        if all(depth < depths.get(neighbour, math.inf) for neighbour in neighbours(x, y))))\n",
    "\n",
    "g = networkx.Graph()\n",
    "for (x, y), depth in depths.items():\n",
    "    if depth == 9:\n",
    "        continue\n",
    "    for neighbour in neighbours(x, y):\n",
    "        if depths.get(neighbour, 9) != 9:\n",
    "            g.add_edge((x, y), neighbour)\n",
    "\n",
    "basins = sorted(len(basin) for basin in networkx.connected_components(g))\n",
    "\n",
    "print(\"Part 2:\", basins[-3] * basins[-2] * basins[-1])"
   ]
  },
  {
   "cell_type": "markdown",
   "metadata": {},
   "source": [
    "### Day 10"
   ]
  },
  {
   "cell_type": "code",
   "execution_count": 1,
   "metadata": {},
   "outputs": [],
   "source": [
    "import math\n",
    "\n",
    "my_input = [l.strip() for l in open('data/day10.txt').readlines()]\n",
    "\n",
    "points = {')': 3, ']': 57, '}': 1197, '>': 25137, '(': 1, '[': 2, '{': 3, '<': 4}\n",
    "openings = {'(': ')', '[': ']', '<': '>', '{': '}'}\n",
    "invalids = []\n",
    "bracket_stacks = []\n",
    "for line in my_input:\n",
    "    bracket_stack = []\n",
    "    for c in line:\n",
    "        if c in openings:\n",
    "            bracket_stack.append(c)\n",
    "        else:\n",
    "            if c != openings[bracket_stack[-1]]:\n",
    "                invalids.append(c)\n",
    "                break\n",
    "            bracket_stack.pop()\n",
    "    else:\n",
    "        bracket_stacks.append(bracket_stack)\n",
    "\n",
    "scores = []\n",
    "for bc in bracket_stacks:\n",
    "    score = 0\n",
    "    for c in bc[::-1]:\n",
    "        score *= 5\n",
    "        score += points[c]\n",
    "    scores.append(score)\n",
    "\n",
    "print(\"Part 1:\", sum([points[x] for x in invalids]))\n",
    "print(\"Part 2:\", sorted(scores)[len(scores)//2])"
   ]
  },
  {
   "cell_type": "markdown",
   "metadata": {},
   "source": [
    "### Day 11"
   ]
  },
  {
   "cell_type": "code",
   "execution_count": 19,
   "metadata": {},
   "outputs": [],
   "source": [
    "import numpy as np\n",
    "with open('data/day11.txt') as f:\n",
    "    data = np.array([[int(x) for x in line.strip()] for line in f])\n",
    "\n",
    "def neighbours(row, col):\n",
    "    adj = [(row-1,col),(row-1,col-1),(row-1,col+1),(row, col-1), \n",
    "           (row, col+1),(row+1, col-1), (row+1,col), (row+1,col+1)]\n",
    "    return [(r,c) for r,c in adj if r >=0 and c>=0 and r<=9 and c<=9]\n",
    "\n",
    "def increment(x,y, data, flashed):\n",
    "    for i,j in neighbours(x,y): \n",
    "        if not flashed[i][j]:\n",
    "            data[i][j] += 1\n",
    "    return data\n",
    "\n",
    "def execute(data, steps):\n",
    "    temp = data.copy()\n",
    "    flashes, step = 0, 1\n",
    "    while step <= steps:\n",
    "        temp += 1\n",
    "        has_flashed = np.zeros_like(temp).astype(bool)\n",
    "        while np.argwhere(temp > 9).shape[0] > 0:\n",
    "            idx = np.argwhere(temp > 9)\n",
    "            for i in idx:\n",
    "                has_flashed[i[0],i[1]] = True\n",
    "                temp[i[0],i[1]] = 0\n",
    "                increment(i[0],i[1], temp, has_flashed)\n",
    "        flashes += has_flashed.sum()\n",
    "        if has_flashed.sum() == 100:\n",
    "            return step\n",
    "            break\n",
    "        step += 1\n",
    "    return flashes\n",
    "\n",
    "print(\"Part 1:\", execute(data,100))\n",
    "print(\"Part 2:\", execute(data,250))"
   ]
  },
  {
   "cell_type": "markdown",
   "metadata": {},
   "source": [
    "### Day 12"
   ]
  },
  {
   "cell_type": "code",
   "execution_count": 1,
   "metadata": {},
   "outputs": [
    {
     "name": "stdout",
     "output_type": "stream",
     "text": [
      "Part 1: 4749\n",
      "Part 2: 123054\n"
     ]
    }
   ],
   "source": [
    "from collections import defaultdict\n",
    "lines = [l.strip() for l in open('data/day12.txt').readlines()]\n",
    "adj = defaultdict(list)\n",
    "\n",
    "for line in lines:\n",
    "    a, b = line.split(\"-\")\n",
    "    adj[a].append(b)\n",
    "    adj[b].append(a)\n",
    "    \n",
    "def paths(cur: str, seen, double):\n",
    "    if cur == 'end':\n",
    "        return 1\n",
    "    if cur == \"start\" and seen:\n",
    "        return 0\n",
    "    if cur.islower() and cur in seen:\n",
    "        if double is None:\n",
    "            double = cur\n",
    "        else:\n",
    "            return 0\n",
    "    seen = seen | {cur}\n",
    "    out = 0\n",
    "    for thing in adj[cur]:\n",
    "        out += paths(thing, seen, double)\n",
    "    return out\n",
    "\n",
    "print(\"Part 1:\", paths(\"start\", set(), 0))\n",
    "print(\"Part 2:\", paths(\"start\", set(), None))"
   ]
  },
  {
   "cell_type": "markdown",
   "metadata": {},
   "source": [
    "### Day 13"
   ]
  },
  {
   "cell_type": "code",
   "execution_count": 28,
   "metadata": {
    "scrolled": false
   },
   "outputs": [
    {
     "name": "stdout",
     "output_type": "stream",
     "text": [
      "Part 1: 842\n",
      "███  ████ █  █ ███   ██    ██ ████ █  █\n",
      "█  █ █    █ █  █  █ █  █    █    █ █  █\n",
      "███  ███  ██   █  █ █       █   █  █  █\n",
      "█  █ █    █ █  ███  █       █  █   █  █\n",
      "█  █ █    █ █  █ █  █  █ █  █ █    █  █\n",
      "███  █    █  █ █  █  ██   ██  ████  ██ \n",
      "Part 2: None\n"
     ]
    }
   ],
   "source": [
    "with open('data/day13.txt') as f:\n",
    "    grid, folds = process(f.read().split('\\n\\n'))\n",
    "\n",
    "def process(parts):\n",
    "    grid = set()\n",
    "    for line in parts[0].split('\\n'):\n",
    "        a, b = [int(n) for n in line.strip().split(',')]\n",
    "        grid.add((a, b))\n",
    "    folds = []\n",
    "    for line in parts[1].strip().split('\\n'):\n",
    "        xy, n = line.strip().split(' ')[2].split('=')\n",
    "        n = int(n)\n",
    "        folds.append((xy, n))\n",
    "    return grid, folds\n",
    "\n",
    "def fold(grid, xy, n):\n",
    "    if xy == 'x':\n",
    "        return {(x, y) for x, y in grid if x < n} | {(n - (x - n), y) for x, y in grid if x > n}\n",
    "    else:\n",
    "        return {(x, y) for x, y in grid if y < n} | {(x, n - (y - n)) for x, y in grid if y > n}\n",
    "\n",
    "def display_grid():\n",
    "    max_x = max([pos[0] for pos in grid])\n",
    "    max_y = max([pos[1] for pos in grid])\n",
    "    \n",
    "    for y in range(max_y + 1):\n",
    "        for x in range(max_x + 1):\n",
    "            if (x, y) in grid:\n",
    "                print('█', end='')\n",
    "            else:\n",
    "                print(' ', end='')\n",
    "        print()\n",
    "\n",
    "xy, n = folds[0]\n",
    "print(\"Part 1:\", len(fold(grid, xy, n)))\n",
    "\n",
    "for xy, n in folds:\n",
    "    grid = fold(grid, xy, n)\n",
    "    \n",
    "print(\"Part 2:\", display_grid())"
   ]
  },
  {
   "cell_type": "markdown",
   "metadata": {},
   "source": [
    "### Day 14"
   ]
  },
  {
   "cell_type": "code",
   "execution_count": 5,
   "metadata": {},
   "outputs": [
    {
     "name": "stdout",
     "output_type": "stream",
     "text": [
      "Part 1: 2740\n",
      "Part 2: 2959788056211\n"
     ]
    }
   ],
   "source": [
    "from collections import Counter, defaultdict\n",
    "def run(steps):\n",
    "    with open('data/day14.txt') as f:\n",
    "        polymer, rules = f.read().split('\\n\\n')\n",
    "\n",
    "    rules = {rule.split(\" -> \")[0]: rule.split(\" -> \")[1] for rule in rules.split(\"\\n\")}\n",
    "    pairs = Counter((x+y) for x, y in zip(polymer, polymer[1:]))\n",
    "    \n",
    "    for _ in range(steps):\n",
    "        new_pairs = Counter()\n",
    "        for k, v in pairs.items():\n",
    "            a, b = list(k)\n",
    "            mid = rules[k]\n",
    "            new_pairs[a+mid] += v\n",
    "            new_pairs[mid+b] += v\n",
    "\n",
    "        pairs = new_pairs\n",
    "\n",
    "    total_lets = Counter()\n",
    "    for k, v in pairs.items():\n",
    "        total_lets[k[0]] += v\n",
    "    total_lets[polymer[-1]] += 1\n",
    "\n",
    "    return total_lets.most_common()[0][1] - total_lets.most_common()[-1][1]\n",
    "    \n",
    "print(\"Part 1:\", run(10))\n",
    "print(\"Part 2:\", run(40))"
   ]
  },
  {
   "cell_type": "markdown",
   "metadata": {},
   "source": [
    "### Day 15"
   ]
  },
  {
   "cell_type": "code",
   "execution_count": 42,
   "metadata": {},
   "outputs": [
    {
     "name": "stdout",
     "output_type": "stream",
     "text": [
      "Part 1: 523\n",
      "Part 2: 2876\n"
     ]
    }
   ],
   "source": [
    "import heapq\n",
    "from collections import defaultdict\n",
    "from math import inf as INFINITY\n",
    "\n",
    "with open('data/day15.txt') as f:\n",
    "    data = [[int(i) for i in line.strip()] for line in f]\n",
    "    \n",
    "def neighbours(r, c, h, w):\n",
    "    for dr, dc in ((1, 0), (-1, 0), (0, 1), (0, -1)):\n",
    "        rr, cc = (r + dr, c + dc)\n",
    "        if 0 <= rr < w and 0 <= cc < h:\n",
    "            yield rr, cc\n",
    "            \n",
    "def run(grid):\n",
    "    h, w = len(grid), len(grid[0])\n",
    "    source = (0, 0)\n",
    "    destination = (h - 1, w - 1)\n",
    "\n",
    "    queue = [(0, source)]\n",
    "    mindist = defaultdict(lambda: INFINITY, {source: 0})\n",
    "    visited = set()\n",
    "\n",
    "    while queue:\n",
    "        dist, node = heapq.heappop(queue)\n",
    "        if node == destination:\n",
    "            return dist\n",
    "        if node in visited:\n",
    "            continue\n",
    "        visited.add(node)\n",
    "        r, c = node\n",
    "\n",
    "        # For each unvisited neighbor of this node...\n",
    "        for neighbour in filter(lambda n: n not in visited, neighbours(r, c, h, w)):\n",
    "            nr, nc  = neighbour\n",
    "            newdist = dist + grid[nr][nc]\n",
    "            if newdist < mindist[neighbour]:\n",
    "                mindist[neighbour] = newdist\n",
    "                heapq.heappush(queue, (newdist, neighbour))\n",
    "\n",
    "    return INFINITY\n",
    "\n",
    "print('Part 1:', run(data))\n",
    "\n",
    "tilew, tileh = len(data), len(data[0])\n",
    "\n",
    "for _ in range(4):\n",
    "    for row in data:\n",
    "        tail = row[-tilew:]\n",
    "        row.extend((x + 1) if x < 9 else 1 for x in tail)\n",
    "        \n",
    "for _ in range(4):\n",
    "    for row in data[-tileh:]:\n",
    "        row = [(x + 1) if x < 9 else 1 for x in row]\n",
    "        data.append(row)\n",
    "\n",
    "print('Part 2:', run(data))"
   ]
  },
  {
   "cell_type": "code",
   "execution_count": 45,
   "metadata": {},
   "outputs": [
    {
     "name": "stdout",
     "output_type": "stream",
     "text": [
      "DiGraph with 10000 nodes and 39600 edges\n",
      "523\n",
      "DiGraph with 250000 nodes and 998000 edges\n",
      "2876\n"
     ]
    }
   ],
   "source": [
    "import networkx as nx\n",
    "from itertools import product\n",
    "\n",
    "def load_data(datafile):\n",
    "    with open(datafile) as df:\n",
    "        data = [list(map(int, line.strip())) for line in df.readlines()]\n",
    "    return data\n",
    "\n",
    "def gen_nx_graph(data):\n",
    "    G = nx.DiGraph()\n",
    "    for y,x in product(range(len(data)), range(len(data))):\n",
    "        G.add_node((x, y))\n",
    "        for dx, dy in [(-1, 0), (1, 0), (0, -1), (0, 1)]:\n",
    "            x_, y_ = x + dx, y + dy\n",
    "            if 0 <= x_ < len(data) and 0 <= y_ < len(data):\n",
    "                G.add_edge((x, y), (x_, y_), weight=data[y_][x_])\n",
    "    return G\n",
    "\n",
    "def _main():\n",
    "\n",
    "    data = load_data('data/day15.txt')\n",
    "    idx = len(data) - 1\n",
    "\n",
    "    # Part 1\n",
    "    G = gen_nx_graph(data)\n",
    "    print(G)\n",
    "    path = nx.shortest_path(G, source=(0, 0), target=(idx, idx), weight='weight')\n",
    "    risk = sum(data[y][x] for x, y in path[1:])\n",
    "    print(risk)\n",
    "\n",
    "    # Part 2\n",
    "    cave = [None] * (5*len(data))\n",
    "    for i, j in product(range(len(data)), range(5)):\n",
    "        cave[len(data)*j + i] = data[i] * 5\n",
    "\n",
    "    for i, j in product(range(5), range(5)):\n",
    "        if i == j == 0:\n",
    "            continue\n",
    "        for k, l in product(range(len(data)), range(len(data))):\n",
    "            x, y = i * len(data) + k, j * len(data) + l\n",
    "            cave[y][x] += (i + j)\n",
    "            if cave[y][x] > 9:\n",
    "                cave[y][x] -= 9\n",
    "\n",
    "    G = gen_nx_graph(cave)\n",
    "    idx = len(cave) - 1\n",
    "    print(G)\n",
    "    path = nx.shortest_path(G, source=(0, 0), target=(idx, idx), weight='weight')\n",
    "    risk = sum(cave[y][x] for x, y in path[1:])\n",
    "    print(risk)\n",
    "\n",
    "if __name__ == '__main__':\n",
    "    _main()"
   ]
  },
  {
   "cell_type": "markdown",
   "metadata": {},
   "source": [
    "### Day 16"
   ]
  },
  {
   "cell_type": "code",
   "execution_count": 7,
   "metadata": {},
   "outputs": [
    {
     "name": "stdout",
     "output_type": "stream",
     "text": [
      "Part 2: 13476220616073\n",
      "Part 1: 940\n"
     ]
    }
   ],
   "source": [
    "data = [x for x in open('data/day16.txt').read().strip().split('\\n')][0]\n",
    "parse = {'0':'0000','1':'0001','2':'0010','3':'0011','4':'0100','5':'0101','6':'0110','7':'0111','8':'1000','9':'1001',\n",
    "'A':'1010','B':'1011','C':'1100','D':'1101','E':'1110','F':'1111'}\n",
    "\n",
    "data = \"\".join([parse[x] for x in data])\n",
    "\n",
    "sumofversions=0\n",
    "def parse(data):\n",
    "    global sumofversions\n",
    "    version, tid = int(data[:3],2), int(data[3:6],2)\n",
    "    sumofversions+=version\n",
    "\n",
    "    data=data[6:]\n",
    "    if tid == 4:\n",
    "        t = \"\"\n",
    "        while True:\n",
    "            t += data[1:5]\n",
    "            cnt = data[0]\n",
    "            data=data[5:]\n",
    "            if cnt == '0':\n",
    "                break\n",
    "        return (data, int(t,2))\n",
    "    else:\n",
    "        ltid= data[0]\n",
    "        data=data[1:]\n",
    "        spv = []\n",
    "        if ltid == '0':\n",
    "            l = data[:15]\n",
    "            data=data[15:]\n",
    "            subpacketslen = int(l, 2)\n",
    "            subpackets = data[:subpacketslen]\n",
    "            while subpackets:\n",
    "                s,x = parse(subpackets)\n",
    "                subpackets=s\n",
    "                spv.append(x)\n",
    "            data=data[subpacketslen:]\n",
    "        else:\n",
    "            l = data[:11]\n",
    "            data=data[11:]\n",
    "            subpacketsqty = int(l, 2)\n",
    "            for i in range(subpacketsqty):\n",
    "                s,x = parse(data)\n",
    "                data = s\n",
    "                spv.append(x)\n",
    "        if tid == 0:\n",
    "            return (data, sum(spv))\n",
    "        if tid == 1:\n",
    "            p = 1\n",
    "            for x in spv:\n",
    "                p*=x\n",
    "            return (data,p)\n",
    "        if tid == 2:\n",
    "            return (data, min(spv))\n",
    "        if tid == 3:\n",
    "            return (data, max(spv))\n",
    "        if tid == 5:\n",
    "            return (data, 1 if spv[0]>spv[1] else 0)\n",
    "        if tid == 6:\n",
    "            return (data, 1 if spv[0]<spv[1] else 0)\n",
    "        if tid == 7:\n",
    "            return (data, 1 if spv[0]==spv[1] else 0)\n",
    "\n",
    "print(\"Part 2:\", parse(data)[1])\n",
    "print(\"Part 1:\", sumofversions)\n",
    "    "
   ]
  },
  {
   "cell_type": "markdown",
   "metadata": {},
   "source": [
    "### Day 17"
   ]
  },
  {
   "cell_type": "code",
   "execution_count": 28,
   "metadata": {},
   "outputs": [
    {
     "name": "stdout",
     "output_type": "stream",
     "text": [
      "Part 1:  10296\n",
      "Part 2:  2371\n"
     ]
    }
   ],
   "source": [
    "from itertools import product\n",
    "import re\n",
    "x_min,x_max,y_min,y_max = map(int, re.findall(r'-?\\d+', open('data/day17.txt').read()))\n",
    "\n",
    "def step(pos,vel):\n",
    "    x,y = pos\n",
    "    vx,vy = vel\n",
    "    maxy = 0\n",
    "    while x <= x2+1 and y1-1 <= y:\n",
    "        x, y = x + vx, y + vy\n",
    "        if maxy < y: maxy = y\n",
    "        if x1 <= x <= x2 and y1 <= y <= y2:\n",
    "            return True,(x,y),maxy\n",
    "\n",
    "        vx = vx-1 if vx>0 else 0\n",
    "        vy -= 1\n",
    "        #print(x,y,vx,vy)\n",
    "    return False,(0,0),maxy\n",
    "\n",
    "result, velValues = 0, set()\n",
    "for x,y in product(range(1,x_max+1), range(y_min, -y_min)):\n",
    "    hit, pos, maxy = step((0,0),(x,y))\n",
    "    if hit:\n",
    "        if maxy > result: result = maxy    \n",
    "        velValues.add((x,y))\n",
    "            \n",
    "print('Part 1: ',result)\n",
    "print('Part 2: ',len(velValues))"
   ]
  },
  {
   "cell_type": "markdown",
   "metadata": {},
   "source": [
    "### Day 18"
   ]
  },
  {
   "cell_type": "code",
   "execution_count": 29,
   "metadata": {},
   "outputs": [
    {
     "name": "stdout",
     "output_type": "stream",
     "text": [
      "Part 1: 3551\n",
      "Part 2: 4555\n"
     ]
    }
   ],
   "source": [
    "import itertools\n",
    "import math\n",
    "from functools import reduce\n",
    "\n",
    "def add_left(x, n):\n",
    "    if n is None:\n",
    "        return x\n",
    "    if isinstance(x, int):\n",
    "        return x + n\n",
    "    return [add_left(x[0], n), x[1]]\n",
    "\n",
    "def add_right(x, n):\n",
    "    if n is None:\n",
    "        return x\n",
    "    if isinstance(x, int):\n",
    "        return x + n\n",
    "    return [x[0], add_right(x[1], n)]\n",
    "\n",
    "def explode(x, n=4):\n",
    "    if isinstance(x, int):\n",
    "        return False, None, x, None\n",
    "    if n == 0:\n",
    "        return True, x[0], 0, x[1]\n",
    "    a, b = x\n",
    "    exp, left, a, right = explode(a, n - 1)\n",
    "    if exp:\n",
    "        return True, left, [a, add_left(b, right)], None\n",
    "    exp, left, b, right = explode(b, n - 1)\n",
    "    if exp:\n",
    "        return True, None, [add_right(a, left), b], right\n",
    "    return False, None, x, None\n",
    "\n",
    "def split(x):\n",
    "    if isinstance(x, int):\n",
    "        if x >= 10:\n",
    "            return True, [x // 2, math.ceil(x / 2)]\n",
    "        return False, x\n",
    "    a, b = x\n",
    "    change, a = split(a)\n",
    "    if change:\n",
    "        return True, [a, b]\n",
    "    change, b = split(b)\n",
    "    return change, [a, b]\n",
    "\n",
    "def add(a, b):\n",
    "    x = [a, b]\n",
    "    while True:\n",
    "        change, _, x, _ = explode(x)\n",
    "        if change:\n",
    "            continue\n",
    "        change, x = split(x)\n",
    "        if not change:\n",
    "            break\n",
    "    return x\n",
    "\n",
    "def magnitude(x):\n",
    "    if isinstance(x, int):\n",
    "        return x\n",
    "    return 3 * magnitude(x[0]) + 2 * magnitude(x[1])\n",
    "\n",
    "with open(\"data/day18.txt\") as f:\n",
    "    lines = list(map(eval, f.read().splitlines()))\n",
    "    print(\"Part 1:\", magnitude(reduce(add, lines)))\n",
    "    print(\"Part 2:\", max(magnitude(add(a, b)) for a, b in itertools.permutations(lines, 2)))\n"
   ]
  },
  {
   "cell_type": "markdown",
   "metadata": {},
   "source": [
    "### Day 19"
   ]
  },
  {
   "cell_type": "code",
   "execution_count": 30,
   "metadata": {},
   "outputs": [
    {
     "name": "stdout",
     "output_type": "stream",
     "text": [
      "Part 1: 483\n",
      "Part 2: 14804\n"
     ]
    }
   ],
   "source": [
    "from copy import deepcopy as dc\n",
    "from itertools import product\n",
    "\n",
    "scanners = []\n",
    "\n",
    "for s in open('data/day19.txt').read().split(\"\\n\\n\"):\n",
    "    s = s.splitlines()[1:]\n",
    "    scanners.append({tuple(map(int, k.split(\",\"))) for k in s})\n",
    "\n",
    "def rotations(s):\n",
    "    s = dc(s)\n",
    "    k = []\n",
    "    for _ in range(4):\n",
    "        for _ in range(4):\n",
    "            k.append(s)\n",
    "            s = {(z, y, -x) for x, y, z in s}\n",
    "        k.append({(y, -x, z) for x, y, z in s})\n",
    "        k.append({(-y, x, z) for x, y, z in s})\n",
    "        s = {(x, z, -y) for x, y, z in s}\n",
    "    return k\n",
    "\n",
    "def vinv(x):\n",
    "    return tuple(-k for k in x)\n",
    "\n",
    "def vadd(x, y):\n",
    "    return tuple(a + b for a, b in zip(x, y))\n",
    "\n",
    "def vsub(x, y):\n",
    "    return tuple(a - b for a, b in zip(x, y))\n",
    "\n",
    "def calc_intersect(s1, s2):\n",
    "    for s2 in rotations(s2):\n",
    "        for a, b in product(s1, s2):\n",
    "            off = vsub(b, a)\n",
    "            c = {vsub(b, off) for b in s2}\n",
    "            if len(s1 & c) >= 12:\n",
    "                return (off, c)\n",
    "\n",
    "t = set(scanners[0])\n",
    "o = [(0, 0, 0)]\n",
    "\n",
    "q = scanners[1:]\n",
    "\n",
    "while q:\n",
    "    k = calc_intersect(t, q[0])\n",
    "    if k:\n",
    "        off, k = k\n",
    "        t |= k\n",
    "        o.append(off)\n",
    "        q.pop(0)\n",
    "    else:\n",
    "        q.append(q.pop(0))\n",
    "\n",
    "md = 0\n",
    "for a, b in product(o,o):\n",
    "    md = max(md, sum(abs(x - y) for x, y in zip(a, b)))\n",
    "\n",
    "print(\"Part 1:\", len(t))\n",
    "print(\"Part 2:\", md)"
   ]
  },
  {
   "cell_type": "markdown",
   "metadata": {},
   "source": [
    "### Day 20"
   ]
  },
  {
   "cell_type": "code",
   "execution_count": 29,
   "metadata": {},
   "outputs": [
    {
     "name": "stdout",
     "output_type": "stream",
     "text": [
      "5498\n",
      "16014\n"
     ]
    }
   ],
   "source": [
    "import numpy as np\n",
    "from scipy.ndimage import convolve\n",
    "\n",
    "alg, _, *img = open('data/day20.txt').read().splitlines()\n",
    "\n",
    "alg = np.array([int(p==\"#\") for p in alg])\n",
    "img = np.pad([[int(p==\"#\") for p in row] for row in img], (51,51))\n",
    "\n",
    "bin2dec = 2**np.arange(9).reshape(3,3)\n",
    "\n",
    "for i in range(50):\n",
    "    img = alg[convolve(img, bin2dec)]\n",
    "    if i+1 in (2, 50): print(img.sum())"
   ]
  },
  {
   "cell_type": "markdown",
   "metadata": {},
   "source": [
    "### Day 21"
   ]
  },
  {
   "cell_type": "code",
   "execution_count": 2,
   "metadata": {},
   "outputs": [
    {
     "name": "stdout",
     "output_type": "stream",
     "text": [
      "Part 1:  926610\n",
      "Part 2:  146854918035875\n"
     ]
    }
   ],
   "source": [
    "from itertools import cycle, product\n",
    "from functools import lru_cache\n",
    "\n",
    "p1, p2 = int(open('data/day21.txt').readlines()[0][-2]), int(open('data/day21.txt').readlines()[1][-1])\n",
    "\n",
    "def play(p1_pos, p2_pos, score_limit):\n",
    "    rolls = p1_score = p2_score = 0\n",
    "    die   = cycle(range(1, 101)).__next__\n",
    "\n",
    "    while True:\n",
    "        p1_pos    = (p1_pos + die() + die() + die()) % 10\n",
    "        p1_score += p1_pos + 1\n",
    "        rolls    += 3\n",
    "        if p1_score >= score_limit:\n",
    "            return rolls*p2_score\n",
    "\n",
    "        p2_pos    = (p2_pos + die() + die() + die()) % 10\n",
    "        p2_score += p2_pos + 1\n",
    "        rolls    += 3\n",
    "\n",
    "        if p2_score >= score_limit:\n",
    "            return rolls*p1_score\n",
    "\n",
    "print(\"Part 1: \",play(p1-1, p2-1, 1000))\n",
    "\n",
    "rolls = tuple(map(sum, product(range(1, 4), range(1, 4), range(1, 4))))\n",
    "\n",
    "@lru_cache(maxsize=None)\n",
    "def play2(my_pos, my_score, other_pos, other_score, win_score):\n",
    "    if my_score >= win_score: return 1, 0\n",
    "    if other_score >= win_score: return 0, 1\n",
    "\n",
    "    my_wins = other_wins = 0\n",
    "\n",
    "    for roll in rolls:\n",
    "        # Play one turn calculating the new score with the current roll:\n",
    "        new_pos   = (my_pos + roll) % 10\n",
    "        new_score = my_score + new_pos + 1\n",
    "\n",
    "        ow, mw = play2(other_pos, other_score, new_pos, new_score, win_score) # Let the other player play, swapping the arguments:\n",
    "\n",
    "        # Update total wins of each player:\n",
    "        my_wins    += mw\n",
    "        other_wins += ow\n",
    "\n",
    "    return my_wins, other_wins\n",
    "\n",
    "print(\"Part 2: \",max(play2(p1-1, 0, p2-1, 0, 21)))\n"
   ]
  },
  {
   "cell_type": "markdown",
   "metadata": {},
   "source": [
    "### Day 22"
   ]
  },
  {
   "cell_type": "code",
   "execution_count": 1,
   "metadata": {},
   "outputs": [
    {
     "name": "stdout",
     "output_type": "stream",
     "text": [
      "Part 1:  598616\n",
      "Part 2:  1193043154475246\n"
     ]
    }
   ],
   "source": [
    "import math\n",
    "import re\n",
    "\n",
    "lines = []\n",
    "for line in [line.strip() for line in open('data/day22.txt').readlines()]:\n",
    "    x_min, x_max, y_min, y_max, z_min, z_max = map(int, re.findall(r'-?\\d+', line.split(' ')[1]))\n",
    "    lines.append((line.split(' ')[0],[x_min, x_max], [y_min, y_max], [z_min, z_max]))\n",
    "    \n",
    "def intersection(cube1, cube2):\n",
    "    for a, b in zip(cube1, cube2):\n",
    "        if a[0] > b[1] or a[1] < b[0]: return None\n",
    "    return tuple((max(a[0], b[0]), min(a[1], b[1])) for a, b in zip(cube1, cube2))\n",
    "\n",
    "def difference(cube1, cube2):\n",
    "    inter = intersection(cube1, cube2)\n",
    "    if not inter:\n",
    "        return [cube1]\n",
    "    new_cubes = []\n",
    "    new_cubes.append((cube1[0], cube1[1], (cube1[2][0], inter[2][0] - 1)))\n",
    "    new_cubes.append((cube1[0], cube1[1], (inter[2][1] + 1, cube1[2][1])))\n",
    "    new_cubes.append(((cube1[0][0], inter[0][0] - 1), cube1[1], inter[2]))\n",
    "    new_cubes.append(((inter[0][1] + 1, cube1[0][1]), cube1[1], inter[2]))\n",
    "    new_cubes.append((inter[0], (cube1[1][0], inter[1][0] - 1), inter[2]))\n",
    "    new_cubes.append((inter[0], (inter[1][1] + 1, cube1[1][1]), inter[2]))\n",
    "\n",
    "    return [(x, y, z) for x, y, z in new_cubes if x[0] <= x[1] and y[0] <= y[1] and z[0] <= z[1]]\n",
    "\n",
    "cubes = []\n",
    "for idx, line in enumerate(lines):\n",
    "    onoff = line[0]\n",
    "    this_cube = line[1:]\n",
    "    new_cubes = []\n",
    "    for cube in cubes:\n",
    "        new_cubes.extend(difference(cube, this_cube))\n",
    "    if onoff == 'on':\n",
    "        new_cubes.append(this_cube)\n",
    "    cubes = new_cubes\n",
    "\n",
    "s1 = s2 = 0\n",
    "for cube in cubes:\n",
    "    s1 += math.prod(max(0, min(50, cube[i][1]) - max(-50, cube[i][0]) + 1) for i in range(3))\n",
    "    s2 += math.prod(cube[i][1] - cube[i][0] + 1 for i in range(3))\n",
    "\n",
    "print(\"Part 1: \",s1)\n",
    "print(\"Part 2: \",s2)"
   ]
  },
  {
   "cell_type": "markdown",
   "metadata": {},
   "source": [
    "### Day 23"
   ]
  },
  {
   "cell_type": "code",
   "execution_count": 1,
   "metadata": {},
   "outputs": [
    {
     "name": "stdout",
     "output_type": "stream",
     "text": [
      "Part 1:  15338\n",
      "Part 2:  47064\n"
     ]
    }
   ],
   "source": [
    "from functools import lru_cache\n",
    "\n",
    "part_1 = ((\"D\", \"C\"), (\"B\", \"A\"), (\"C\", \"D\"), (\"A\", \"B\"))\n",
    "part_2 = ((\"D\", \"D\", \"D\", \"C\"), (\"B\", \"C\", \"B\", \"A\"), (\"C\", \"B\", \"A\", \"D\"), (\"A\", \"A\", \"C\", \"B\"))\n",
    "\n",
    "def run(lines):\n",
    "    room_map = (2, 4, 6, 8)\n",
    "    hall_spots = (0, 1, 3, 5, 7, 9, 10)\n",
    "    destination = {\"A\": 0, \"B\": 1, \"C\": 2, \"D\": 3}\n",
    "    costs = {\"A\": 1, \"B\": 10, \"C\": 100, \"D\": 1000}\n",
    "\n",
    "    room_size = len(lines[0])\n",
    "    hallway_start = tuple(None for _ in range(len(room_map) + len(hall_spots)))\n",
    "\n",
    "    @lru_cache(maxsize=None)\n",
    "    def helper(hallway, rooms):\n",
    "        if rooms == ((\"A\",) * room_size, (\"B\",) * room_size, (\"C\",) * room_size, (\"D\",) * room_size):\n",
    "            return 0\n",
    "\n",
    "        best_cost = float('inf')\n",
    "        for i, square in enumerate(hallway):  # Move from the hallway into a room.\n",
    "            if square is None:\n",
    "                continue\n",
    "            dest = destination[square]\n",
    "            can_move = True\n",
    "            for roommate in rooms[dest]:\n",
    "                if roommate is not None and roommate != square:\n",
    "                    # Foreigner in room: can't move there.\n",
    "                    can_move = False\n",
    "                    break\n",
    "            if not can_move:\n",
    "                continue\n",
    "            offset = 1 if room_map[dest] > i else -1\n",
    "            for j in range(i + offset, room_map[dest] + offset, offset):\n",
    "                if hallway[j] is not None:\n",
    "                    can_move = False\n",
    "                    break\n",
    "            if not can_move:\n",
    "                continue\n",
    "            none_count = sum(elem is None for elem in rooms[dest])\n",
    "            new_room = (None,) * (none_count - 1) + (square,) * (room_size - none_count + 1)\n",
    "            steps = none_count + abs(i - room_map[dest])\n",
    "            cost = steps * costs[square]\n",
    "            helper_result = helper(hallway[:i] + (None,) + hallway[i + 1:], rooms[:dest] + (new_room,)\n",
    "                                   + rooms[dest + 1:])\n",
    "            new_cost = cost + helper_result\n",
    "            if new_cost < best_cost:\n",
    "                best_cost = new_cost\n",
    "        for i, room in enumerate(rooms):  # Move from a room into the hallway.\n",
    "            wants_to_move = False\n",
    "            for elem in room:\n",
    "                if elem is not None and destination[elem] != i:\n",
    "                    wants_to_move = True\n",
    "            if not wants_to_move:\n",
    "                continue\n",
    "            none_count = sum(elem is None for elem in room)\n",
    "            steps = none_count + 1\n",
    "            square = room[none_count]\n",
    "            for hall_destination in hall_spots:\n",
    "                destination_steps = steps + abs(hall_destination - room_map[i])\n",
    "                destination_cost = destination_steps * costs[square]\n",
    "                blocked = False\n",
    "                for j in range(min(hall_destination, room_map[i]), max(hall_destination, room_map[i])+1):\n",
    "                    if hallway[j] is not None:\n",
    "                        blocked = True\n",
    "                        break\n",
    "                if blocked:\n",
    "                    continue\n",
    "                new_room = (None,) * (none_count + 1) + room[none_count + 1:]\n",
    "                helper_result = helper(\n",
    "                    hallway[:hall_destination] + (square,) + hallway[hall_destination + 1:],\n",
    "                    rooms[:i] + (new_room,) + rooms[i + 1:])\n",
    "                new_cost = destination_cost + helper_result\n",
    "                if new_cost < best_cost:\n",
    "                    best_cost = new_cost\n",
    "\n",
    "        return best_cost\n",
    "\n",
    "    cost = helper(hallway_start, lines)\n",
    "    return cost\n",
    "\n",
    "print(\"Part 1: \",run(part_1))\n",
    "print(\"Part 2: \",run(part_2))\n"
   ]
  },
  {
   "cell_type": "markdown",
   "metadata": {},
   "source": [
    "### Day 24"
   ]
  },
  {
   "cell_type": "code",
   "execution_count": 12,
   "metadata": {},
   "outputs": [
    {
     "name": "stdout",
     "output_type": "stream",
     "text": [
      "94992992796199\n",
      "11931881141161\n"
     ]
    }
   ],
   "source": [
    "digits = dict()\n",
    "stack = list()\n",
    "\n",
    "with open('data/day24.txt') as f:\n",
    "    dig = 0\n",
    "    for i, line in enumerate(f):\n",
    "        _, *operands = line.rstrip().split(' ')\n",
    "        if i % 18 == 4: push = operands[1] == '1'\n",
    "        if i % 18 == 5: sub = int(operands[1])\n",
    "        if i % 18 == 15:\n",
    "            if push:\n",
    "                stack.append((dig, int(operands[1])))\n",
    "            else:\n",
    "                sibling, add = stack.pop()\n",
    "                diff = add + sub\n",
    "                if diff < 0:\n",
    "                    digits[sibling] = (-diff + 1, 9)\n",
    "                    digits[dig] = (1, 9 + diff)\n",
    "                else:\n",
    "                    digits[sibling] = (1, 9 - diff)\n",
    "                    digits[dig] = (1 + diff, 9)\n",
    "            dig += 1\n",
    "\n",
    "print(''.join(str(digits[d][1]) for d in sorted(digits.keys())))\n",
    "print(''.join(str(digits[d][0]) for d in sorted(digits.keys())))"
   ]
  },
  {
   "cell_type": "markdown",
   "metadata": {},
   "source": [
    "### Day 25"
   ]
  },
  {
   "cell_type": "code",
   "execution_count": 17,
   "metadata": {},
   "outputs": [
    {
     "name": "stdout",
     "output_type": "stream",
     "text": [
      "Part 1:  530\n"
     ]
    }
   ],
   "source": [
    "import numpy as np\n",
    "from itertools import product\n",
    "\n",
    "grid = np.array([list(x) for x in open('data/day25.txt').read().split('\\n')])\n",
    "\n",
    "def right(x, y):\n",
    "    if y < grid.shape[1] - 1:\n",
    "        return x, y + 1\n",
    "    else:\n",
    "        return x, 0\n",
    "\n",
    "def down(x, y):\n",
    "    if x < grid.shape[0] - 1:\n",
    "        return x + 1, y\n",
    "    else:\n",
    "        return 0, y\n",
    "\n",
    "def occupied(p):\n",
    "    return p in herd_right or p in herd_down\n",
    "\n",
    "herd_right = {(i, j) for i, j in product(*map(range, grid.shape)) if grid[i, j] == \">\"}\n",
    "herd_down = {(i, j) for i, j in product(*map(range, grid.shape)) if grid[i, j] == \"v\"}\n",
    "herd = herd_right | herd_down\n",
    "\n",
    "for idx in range(1000):\n",
    "    herd_right = {p if occupied(r := right(*p)) else r for p in herd_right}\n",
    "    herd_down = {p if occupied(d := down(*p)) else d for p in herd_down}\n",
    "    new_herd = herd_right | herd_down\n",
    "    if new_herd == herd:\n",
    "        break\n",
    "    else:\n",
    "        herd = new_herd\n",
    "print(\"Part 1: \",idx + 1)"
   ]
  },
  {
   "cell_type": "code",
   "execution_count": null,
   "metadata": {},
   "outputs": [],
   "source": []
  }
 ],
 "metadata": {
  "kernelspec": {
   "display_name": "Python 3",
   "language": "python",
   "name": "python3"
  },
  "language_info": {
   "codemirror_mode": {
    "name": "ipython",
    "version": 3
   },
   "file_extension": ".py",
   "mimetype": "text/x-python",
   "name": "python",
   "nbconvert_exporter": "python",
   "pygments_lexer": "ipython3",
   "version": "3.8.3"
  }
 },
 "nbformat": 4,
 "nbformat_minor": 4
}
