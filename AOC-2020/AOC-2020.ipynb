{
 "cells": [
  {
   "cell_type": "markdown",
   "metadata": {},
   "source": [
    "### Day 1"
   ]
  },
  {
   "cell_type": "code",
   "execution_count": 5,
   "metadata": {},
   "outputs": [],
   "source": [
    "from itertools import combinations\n",
    "numbers = [int(line.strip()) for line in open('data/day1.txt').readlines()]\n",
    "\n",
    "def run(pair_length, target_value):\n",
    "    solutions = [pair for pair in combinations(numbers, pair_length) if sum(pair) == target_value]\n",
    "    if pair_length == 2:\n",
    "        return solutions[0][0]*solutions[0][1]\n",
    "    else:\n",
    "        return solutions[0][0]*solutions[0][1]*solutions[0][2]\n",
    "\n",
    "print(\"Part 1: \", run(2,2020))\n",
    "print(\"Part 1: \", run(3,2020))"
   ]
  },
  {
   "cell_type": "markdown",
   "metadata": {},
   "source": [
    "### Day 2"
   ]
  },
  {
   "cell_type": "code",
   "execution_count": 6,
   "metadata": {},
   "outputs": [],
   "source": [
    "import re\n",
    "p = re.compile(r\"^(\\d+)-(\\d+) (.): (.*)$\")\n",
    "s1, s2 = 0, 0\n",
    "\n",
    "for line in open('data/day2.txt').readlines():\n",
    "    (low, high, letter, password) = p.match(line.strip()).groups()\n",
    "    low, high = int(low), int(high)\n",
    "\n",
    "    if low <= password.count(letter) <= high: s1 += 1\n",
    "    if (password[low - 1] == letter) ^ (password[high - 1] == letter): s2 += 1\n",
    "\n",
    "print(\"Part 1: \", s1)\n",
    "print(\"Part 2: \", s2)"
   ]
  },
  {
   "cell_type": "markdown",
   "metadata": {},
   "source": [
    "### Day 3"
   ]
  },
  {
   "cell_type": "code",
   "execution_count": 4,
   "metadata": {},
   "outputs": [],
   "source": [
    "inputList = open('data/day3.txt').readlines()\n",
    "xMax = int(len(inputList[0])-1)\n",
    "\n",
    "def slope(xIncrement, yIncrement):\n",
    "    posX, posY, trees = 0,0,0\n",
    "\n",
    "    while posY < len(inputList):\n",
    "        if inputList[posY][posX] == \"#\":\n",
    "            trees += 1\n",
    "        posX += xIncrement\n",
    "        posY += yIncrement\n",
    "        if posX >= xMax:\n",
    "            posX -= xMax\n",
    "\n",
    "    return trees\n",
    "\n",
    "print(\"Part 1: \"+str(slope(3,1)))\n",
    "print(\"Part 2: \"+str(slope(1,1)*slope(3,1)*slope(5,1)*slope(7,1)*slope(1,2)))"
   ]
  },
  {
   "cell_type": "markdown",
   "metadata": {},
   "source": [
    "### Day 4"
   ]
  },
  {
   "cell_type": "code",
   "execution_count": 3,
   "metadata": {},
   "outputs": [],
   "source": [
    "import re\n",
    "\n",
    "with open('data/day4.txt', 'r') as fd:\n",
    "    lines = fd.read().split(\"\\n\\n\")\n",
    "    data = [line.replace(\"\\n\", \" \") for line in lines]\n",
    "\n",
    "# Part 1\n",
    "ValidTerms = [\"byr\", \"iyr\", \"eyr\", \"hgt\", \"hcl\", \"ecl\", \"pid\"]\n",
    "ValidPassports = 0\n",
    "for passport in data:\n",
    "    if all(x in passport for x in ValidTerms):\n",
    "        ValidPassports += 1\n",
    "\n",
    "print(\"Part 1: \" + str(ValidPassports))\n",
    "\n",
    "# Part 2\n",
    "ValidPassports = 0\n",
    "for passport in data:\n",
    "    if (re.search(r\"byr:19[2-9]\\d|byr:200[0-2]\", passport) and re.search(r\"eyr:202\\d|eyr:2030\", passport) and\n",
    "            re.search(r\"iyr:201\\d|iyr:2020\", passport) and re.search(r\"hgt:1[5-8]\\dcm|hgt:19[0-3]cm|hgt:59in|hgt:6\\din|hgt:7[0-6]in\", passport) and\n",
    "    re.search(r\"hcl:#[a-z0-9]{6}\", passport) and re.search(r\"ecl:(amb|blu|brn|gry|grn|hzl|oth)\", passport) and re.search(r\"pid:\\d{9}\\b\", passport)):\n",
    "        ValidPassports += 1\n",
    "\n",
    "print(\"Part 2: \" + str(ValidPassports))"
   ]
  },
  {
   "cell_type": "markdown",
   "metadata": {},
   "source": [
    "### Day 5"
   ]
  },
  {
   "cell_type": "code",
   "execution_count": 2,
   "metadata": {},
   "outputs": [],
   "source": [
    "r = open('data/day5.txt').read().strip('\\n')\n",
    "input_text = r.splitlines()\n",
    "\n",
    "seats = [int(x.replace('F','0').replace('B','1').replace('L','0').replace('R','1'),2) for x in input_text]\n",
    "seats.sort()\n",
    "print(\"Part 1: \", seats[-1])\n",
    "\n",
    "for x in range(len(seats)):\n",
    "    if seats[x+1] - seats[x] != 1:\n",
    "        print(\"Part 2: \", seats[x] + 1)\n",
    "        break"
   ]
  },
  {
   "cell_type": "markdown",
   "metadata": {},
   "source": [
    "### Day 6"
   ]
  },
  {
   "cell_type": "code",
   "execution_count": 1,
   "metadata": {},
   "outputs": [],
   "source": [
    "groups = [i.split() for i in open('data/day6.txt').read().split('\\n\\n')]\n",
    "print(\"Part 1: \", sum([len(set(''.join(i))) for i in groups]))\n",
    "print(\"Part 2: \", sum([len(set.intersection(*map(set, group))) for group in groups]))"
   ]
  },
  {
   "cell_type": "markdown",
   "metadata": {},
   "source": [
    "### Day 7"
   ]
  },
  {
   "cell_type": "code",
   "execution_count": 25,
   "metadata": {},
   "outputs": [
    {
     "name": "stdout",
     "output_type": "stream",
     "text": [
      "Part 1:  161\n",
      "Part 2:  30899\n"
     ]
    }
   ],
   "source": [
    "import re\n",
    "from collections import defaultdict\n",
    "from functools import lru_cache\n",
    "\n",
    "bags_in = defaultdict(dict)  # values are bags inside the bag\n",
    "bags_out = defaultdict(set)  # values are bags outside of the bag\n",
    "\n",
    "for line in open('data/day7.txt').read().splitlines():\n",
    "    parent, children = line.split(\" bags contain \")\n",
    "    for count, child in re.findall(r\"(\\d+) (\\w+ \\w+) bags?[,.]\", children):\n",
    "        bags_in[parent][child] = int(count)\n",
    "        bags_out[child].add(parent)\n",
    "\n",
    "@lru_cache\n",
    "def inside(name):\n",
    "    return sum(count + count * inside(bag) for bag, count in bags_in[name].items())\n",
    "\n",
    "@lru_cache\n",
    "def outside(name):\n",
    "    s = bags_out[name].copy()\n",
    "    for bag in bags_out[name]:\n",
    "        s.update(outside(bag))\n",
    "    return s\n",
    "\n",
    "print(\"Part 1: \", len(outside(\"shiny gold\")))\n",
    "print(\"Part 2: \", inside(\"shiny gold\"))"
   ]
  },
  {
   "cell_type": "markdown",
   "metadata": {},
   "source": [
    "### Day 8"
   ]
  },
  {
   "cell_type": "code",
   "execution_count": null,
   "metadata": {},
   "outputs": [],
   "source": []
  }
 ],
 "metadata": {
  "kernelspec": {
   "display_name": "Python 3",
   "language": "python",
   "name": "python3"
  },
  "language_info": {
   "codemirror_mode": {
    "name": "ipython",
    "version": 3
   },
   "file_extension": ".py",
   "mimetype": "text/x-python",
   "name": "python",
   "nbconvert_exporter": "python",
   "pygments_lexer": "ipython3",
   "version": "3.8.3"
  }
 },
 "nbformat": 4,
 "nbformat_minor": 4
}
